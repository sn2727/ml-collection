{
 "cells": [
  {
   "cell_type": "code",
   "execution_count": 37,
   "metadata": {},
   "outputs": [],
   "source": [
    "from ucimlrepo import fetch_ucirepo \n",
    "import pandas as pd\n",
    "import numpy as np\n",
    "import matplotlib.pyplot as plt\n",
    "import seaborn as sns\n",
    "from datetime import datetime"
   ]
  },
  {
   "cell_type": "code",
   "execution_count": 2,
   "metadata": {},
   "outputs": [],
   "source": [
    "# fetch dataset \n",
    "online_retail = fetch_ucirepo(id=352) "
   ]
  },
  {
   "cell_type": "code",
   "execution_count": 23,
   "metadata": {},
   "outputs": [
    {
     "name": "stdout",
     "output_type": "stream",
     "text": [
      "{'uci_id': 352, 'name': 'Online Retail', 'repository_url': 'https://archive.ics.uci.edu/dataset/352/online+retail', 'data_url': 'https://archive.ics.uci.edu/static/public/352/data.csv', 'abstract': 'This is a transactional data set which contains all the transactions occurring between 01/12/2010 and 09/12/2011 for a UK-based and registered non-store online retail.', 'area': 'Business', 'tasks': ['Classification', 'Clustering'], 'characteristics': ['Multivariate', 'Sequential', 'Time-Series'], 'num_instances': 541909, 'num_features': 6, 'feature_types': ['Integer', 'Real'], 'demographics': [], 'target_col': None, 'index_col': ['InvoiceNo', 'StockCode'], 'has_missing_values': 'no', 'missing_values_symbol': None, 'year_of_dataset_creation': 2015, 'last_updated': 'Mon Oct 21 2024', 'dataset_doi': '10.24432/C5BW33', 'creators': ['Daqing Chen'], 'intro_paper': {'ID': 361, 'type': 'NATIVE', 'title': 'Data mining for the online retail industry: A case study of RFM model-based customer segmentation using data mining', 'authors': 'Daqing Chen, Sai Laing Sain, Kun Guo', 'venue': 'Journal of Database Marketing and Customer Strategy Management, Vol. 19, No. 3', 'year': 2012, 'journal': None, 'DOI': '10.1057/dbm.2012.17', 'URL': 'https://www.semanticscholar.org/paper/e43a5a90fa33d419df42e485099f8f08badf2149', 'sha': None, 'corpus': None, 'arxiv': None, 'mag': None, 'acl': None, 'pmid': None, 'pmcid': None}, 'additional_info': {'summary': 'This is a transactional data set which contains all the transactions occurring between 01/12/2010 and 09/12/2011 for a UK-based and registered non-store online retail.The company mainly sells unique all-occasion gifts. Many customers of the company are wholesalers.', 'purpose': None, 'funded_by': None, 'instances_represent': None, 'recommended_data_splits': None, 'sensitive_data': None, 'preprocessing_description': None, 'variable_info': \"InvoiceNo: Invoice number. Nominal, a 6-digit integral number uniquely assigned to each transaction. If this code starts with letter 'c', it indicates a cancellation. \\nStockCode: Product (item) code. Nominal, a 5-digit integral number uniquely assigned to each distinct product.\\nDescription: Product (item) name. Nominal.\\nQuantity: The quantities of each product (item) per transaction. Numeric.\\t\\nInvoiceDate: Invoice Date and time. Numeric, the day and time when each transaction was generated.\\nUnitPrice: Unit price. Numeric, Product price per unit in sterling.\\nCustomerID: Customer number. Nominal, a 5-digit integral number uniquely assigned to each customer.\\nCountry: Country name. Nominal, the name of the country where each customer resides. \", 'citation': None}}\n",
      "          name     role         type demographic  \\\n",
      "0    InvoiceNo       ID  Categorical        None   \n",
      "1    StockCode       ID  Categorical        None   \n",
      "2  Description  Feature  Categorical        None   \n",
      "3     Quantity  Feature      Integer        None   \n",
      "4  InvoiceDate  Feature         Date        None   \n",
      "5    UnitPrice  Feature   Continuous        None   \n",
      "6   CustomerID  Feature  Categorical        None   \n",
      "7      Country  Feature  Categorical        None   \n",
      "\n",
      "                                         description     units missing_values  \n",
      "0  a 6-digit integral number uniquely assigned to...      None             no  \n",
      "1  a 5-digit integral number uniquely assigned to...      None             no  \n",
      "2                                       product name      None             no  \n",
      "3  the quantities of each product (item) per tran...      None             no  \n",
      "4  the day and time when each transaction was gen...      None             no  \n",
      "5                             product price per unit  sterling             no  \n",
      "6  a 5-digit integral number uniquely assigned to...      None             no  \n",
      "7  the name of the country where each customer re...      None             no  \n"
     ]
    }
   ],
   "source": [
    "print(online_retail.metadata)\n",
    "print(online_retail.variables)"
   ]
  },
  {
   "cell_type": "code",
   "execution_count": 29,
   "metadata": {},
   "outputs": [
    {
     "data": {
      "application/vnd.microsoft.datawrangler.viewer.v0+json": {
       "columns": [
        {
         "name": "index",
         "rawType": "int64",
         "type": "integer"
        },
        {
         "name": "Description",
         "rawType": "object",
         "type": "unknown"
        },
        {
         "name": "Quantity",
         "rawType": "int64",
         "type": "integer"
        },
        {
         "name": "InvoiceDate",
         "rawType": "object",
         "type": "string"
        },
        {
         "name": "UnitPrice",
         "rawType": "float64",
         "type": "float"
        },
        {
         "name": "CustomerID",
         "rawType": "float64",
         "type": "float"
        },
        {
         "name": "Country",
         "rawType": "object",
         "type": "string"
        }
       ],
       "conversionMethod": "pd.DataFrame",
       "ref": "e388b3d8-6876-43e7-a2b7-d9b2c00a278a",
       "rows": [
        [
         "0",
         "WHITE HANGING HEART T-LIGHT HOLDER",
         "6",
         "12/1/2010 8:26",
         "2.55",
         "17850.0",
         "United Kingdom"
        ],
        [
         "1",
         "WHITE METAL LANTERN",
         "6",
         "12/1/2010 8:26",
         "3.39",
         "17850.0",
         "United Kingdom"
        ],
        [
         "2",
         "CREAM CUPID HEARTS COAT HANGER",
         "8",
         "12/1/2010 8:26",
         "2.75",
         "17850.0",
         "United Kingdom"
        ],
        [
         "3",
         "KNITTED UNION FLAG HOT WATER BOTTLE",
         "6",
         "12/1/2010 8:26",
         "3.39",
         "17850.0",
         "United Kingdom"
        ],
        [
         "4",
         "RED WOOLLY HOTTIE WHITE HEART.",
         "6",
         "12/1/2010 8:26",
         "3.39",
         "17850.0",
         "United Kingdom"
        ],
        [
         "5",
         "SET 7 BABUSHKA NESTING BOXES",
         "2",
         "12/1/2010 8:26",
         "7.65",
         "17850.0",
         "United Kingdom"
        ],
        [
         "6",
         "GLASS STAR FROSTED T-LIGHT HOLDER",
         "6",
         "12/1/2010 8:26",
         "4.25",
         "17850.0",
         "United Kingdom"
        ],
        [
         "7",
         "HAND WARMER UNION JACK",
         "6",
         "12/1/2010 8:28",
         "1.85",
         "17850.0",
         "United Kingdom"
        ],
        [
         "8",
         "HAND WARMER RED POLKA DOT",
         "6",
         "12/1/2010 8:28",
         "1.85",
         "17850.0",
         "United Kingdom"
        ],
        [
         "9",
         "ASSORTED COLOUR BIRD ORNAMENT",
         "32",
         "12/1/2010 8:34",
         "1.69",
         "13047.0",
         "United Kingdom"
        ],
        [
         "10",
         "POPPY'S PLAYHOUSE BEDROOM ",
         "6",
         "12/1/2010 8:34",
         "2.1",
         "13047.0",
         "United Kingdom"
        ],
        [
         "11",
         "POPPY'S PLAYHOUSE KITCHEN",
         "6",
         "12/1/2010 8:34",
         "2.1",
         "13047.0",
         "United Kingdom"
        ],
        [
         "12",
         "FELTCRAFT PRINCESS CHARLOTTE DOLL",
         "8",
         "12/1/2010 8:34",
         "3.75",
         "13047.0",
         "United Kingdom"
        ],
        [
         "13",
         "IVORY KNITTED MUG COSY ",
         "6",
         "12/1/2010 8:34",
         "1.65",
         "13047.0",
         "United Kingdom"
        ],
        [
         "14",
         "BOX OF 6 ASSORTED COLOUR TEASPOONS",
         "6",
         "12/1/2010 8:34",
         "4.25",
         "13047.0",
         "United Kingdom"
        ],
        [
         "15",
         "BOX OF VINTAGE JIGSAW BLOCKS ",
         "3",
         "12/1/2010 8:34",
         "4.95",
         "13047.0",
         "United Kingdom"
        ],
        [
         "16",
         "BOX OF VINTAGE ALPHABET BLOCKS",
         "2",
         "12/1/2010 8:34",
         "9.95",
         "13047.0",
         "United Kingdom"
        ],
        [
         "17",
         "HOME BUILDING BLOCK WORD",
         "3",
         "12/1/2010 8:34",
         "5.95",
         "13047.0",
         "United Kingdom"
        ],
        [
         "18",
         "LOVE BUILDING BLOCK WORD",
         "3",
         "12/1/2010 8:34",
         "5.95",
         "13047.0",
         "United Kingdom"
        ],
        [
         "19",
         "RECIPE BOX WITH METAL HEART",
         "4",
         "12/1/2010 8:34",
         "7.95",
         "13047.0",
         "United Kingdom"
        ],
        [
         "20",
         "DOORMAT NEW ENGLAND",
         "4",
         "12/1/2010 8:34",
         "7.95",
         "13047.0",
         "United Kingdom"
        ],
        [
         "21",
         "JAM MAKING SET WITH JARS",
         "6",
         "12/1/2010 8:34",
         "4.25",
         "13047.0",
         "United Kingdom"
        ],
        [
         "22",
         "RED COAT RACK PARIS FASHION",
         "3",
         "12/1/2010 8:34",
         "4.95",
         "13047.0",
         "United Kingdom"
        ],
        [
         "23",
         "YELLOW COAT RACK PARIS FASHION",
         "3",
         "12/1/2010 8:34",
         "4.95",
         "13047.0",
         "United Kingdom"
        ],
        [
         "24",
         "BLUE COAT RACK PARIS FASHION",
         "3",
         "12/1/2010 8:34",
         "4.95",
         "13047.0",
         "United Kingdom"
        ],
        [
         "25",
         "BATH BUILDING BLOCK WORD",
         "3",
         "12/1/2010 8:35",
         "5.95",
         "13047.0",
         "United Kingdom"
        ],
        [
         "26",
         "ALARM CLOCK BAKELIKE PINK",
         "24",
         "12/1/2010 8:45",
         "3.75",
         "12583.0",
         "France"
        ],
        [
         "27",
         "ALARM CLOCK BAKELIKE RED ",
         "24",
         "12/1/2010 8:45",
         "3.75",
         "12583.0",
         "France"
        ],
        [
         "28",
         "ALARM CLOCK BAKELIKE GREEN",
         "12",
         "12/1/2010 8:45",
         "3.75",
         "12583.0",
         "France"
        ],
        [
         "29",
         "PANDA AND BUNNIES STICKER SHEET",
         "12",
         "12/1/2010 8:45",
         "0.85",
         "12583.0",
         "France"
        ],
        [
         "30",
         "STARS GIFT TAPE ",
         "24",
         "12/1/2010 8:45",
         "0.65",
         "12583.0",
         "France"
        ],
        [
         "31",
         "INFLATABLE POLITICAL GLOBE ",
         "48",
         "12/1/2010 8:45",
         "0.85",
         "12583.0",
         "France"
        ],
        [
         "32",
         "VINTAGE HEADS AND TAILS CARD GAME ",
         "24",
         "12/1/2010 8:45",
         "1.25",
         "12583.0",
         "France"
        ],
        [
         "33",
         "SET/2 RED RETROSPOT TEA TOWELS ",
         "18",
         "12/1/2010 8:45",
         "2.95",
         "12583.0",
         "France"
        ],
        [
         "34",
         "ROUND SNACK BOXES SET OF4 WOODLAND ",
         "24",
         "12/1/2010 8:45",
         "2.95",
         "12583.0",
         "France"
        ],
        [
         "35",
         "SPACEBOY LUNCH BOX ",
         "24",
         "12/1/2010 8:45",
         "1.95",
         "12583.0",
         "France"
        ],
        [
         "36",
         "LUNCH BOX I LOVE LONDON",
         "24",
         "12/1/2010 8:45",
         "1.95",
         "12583.0",
         "France"
        ],
        [
         "37",
         "CIRCUS PARADE LUNCH BOX ",
         "24",
         "12/1/2010 8:45",
         "1.95",
         "12583.0",
         "France"
        ],
        [
         "38",
         "CHARLOTTE BAG DOLLY GIRL DESIGN",
         "20",
         "12/1/2010 8:45",
         "0.85",
         "12583.0",
         "France"
        ],
        [
         "39",
         "RED TOADSTOOL LED NIGHT LIGHT",
         "24",
         "12/1/2010 8:45",
         "1.65",
         "12583.0",
         "France"
        ],
        [
         "40",
         " SET 2 TEA TOWELS I LOVE LONDON ",
         "24",
         "12/1/2010 8:45",
         "2.95",
         "12583.0",
         "France"
        ],
        [
         "41",
         "VINTAGE SEASIDE JIGSAW PUZZLES",
         "12",
         "12/1/2010 8:45",
         "3.75",
         "12583.0",
         "France"
        ],
        [
         "42",
         "MINI JIGSAW CIRCUS PARADE ",
         "24",
         "12/1/2010 8:45",
         "0.42",
         "12583.0",
         "France"
        ],
        [
         "43",
         "MINI JIGSAW SPACEBOY",
         "24",
         "12/1/2010 8:45",
         "0.42",
         "12583.0",
         "France"
        ],
        [
         "44",
         "MINI PAINT SET VINTAGE ",
         "36",
         "12/1/2010 8:45",
         "0.65",
         "12583.0",
         "France"
        ],
        [
         "45",
         "POSTAGE",
         "3",
         "12/1/2010 8:45",
         "18.0",
         "12583.0",
         "France"
        ],
        [
         "46",
         "PAPER CHAIN KIT 50'S CHRISTMAS ",
         "80",
         "12/1/2010 9:00",
         "2.55",
         "13748.0",
         "United Kingdom"
        ],
        [
         "47",
         "HAND WARMER RED POLKA DOT",
         "6",
         "12/1/2010 9:01",
         "1.85",
         "17850.0",
         "United Kingdom"
        ],
        [
         "48",
         "HAND WARMER UNION JACK",
         "6",
         "12/1/2010 9:01",
         "1.85",
         "17850.0",
         "United Kingdom"
        ],
        [
         "49",
         "WHITE HANGING HEART T-LIGHT HOLDER",
         "6",
         "12/1/2010 9:02",
         "2.55",
         "17850.0",
         "United Kingdom"
        ]
       ],
       "shape": {
        "columns": 6,
        "rows": 541909
       }
      },
      "text/html": [
       "<div>\n",
       "<style scoped>\n",
       "    .dataframe tbody tr th:only-of-type {\n",
       "        vertical-align: middle;\n",
       "    }\n",
       "\n",
       "    .dataframe tbody tr th {\n",
       "        vertical-align: top;\n",
       "    }\n",
       "\n",
       "    .dataframe thead th {\n",
       "        text-align: right;\n",
       "    }\n",
       "</style>\n",
       "<table border=\"1\" class=\"dataframe\">\n",
       "  <thead>\n",
       "    <tr style=\"text-align: right;\">\n",
       "      <th></th>\n",
       "      <th>Description</th>\n",
       "      <th>Quantity</th>\n",
       "      <th>InvoiceDate</th>\n",
       "      <th>UnitPrice</th>\n",
       "      <th>CustomerID</th>\n",
       "      <th>Country</th>\n",
       "    </tr>\n",
       "  </thead>\n",
       "  <tbody>\n",
       "    <tr>\n",
       "      <th>0</th>\n",
       "      <td>WHITE HANGING HEART T-LIGHT HOLDER</td>\n",
       "      <td>6</td>\n",
       "      <td>12/1/2010 8:26</td>\n",
       "      <td>2.55</td>\n",
       "      <td>17850.0</td>\n",
       "      <td>United Kingdom</td>\n",
       "    </tr>\n",
       "    <tr>\n",
       "      <th>1</th>\n",
       "      <td>WHITE METAL LANTERN</td>\n",
       "      <td>6</td>\n",
       "      <td>12/1/2010 8:26</td>\n",
       "      <td>3.39</td>\n",
       "      <td>17850.0</td>\n",
       "      <td>United Kingdom</td>\n",
       "    </tr>\n",
       "    <tr>\n",
       "      <th>2</th>\n",
       "      <td>CREAM CUPID HEARTS COAT HANGER</td>\n",
       "      <td>8</td>\n",
       "      <td>12/1/2010 8:26</td>\n",
       "      <td>2.75</td>\n",
       "      <td>17850.0</td>\n",
       "      <td>United Kingdom</td>\n",
       "    </tr>\n",
       "    <tr>\n",
       "      <th>3</th>\n",
       "      <td>KNITTED UNION FLAG HOT WATER BOTTLE</td>\n",
       "      <td>6</td>\n",
       "      <td>12/1/2010 8:26</td>\n",
       "      <td>3.39</td>\n",
       "      <td>17850.0</td>\n",
       "      <td>United Kingdom</td>\n",
       "    </tr>\n",
       "    <tr>\n",
       "      <th>4</th>\n",
       "      <td>RED WOOLLY HOTTIE WHITE HEART.</td>\n",
       "      <td>6</td>\n",
       "      <td>12/1/2010 8:26</td>\n",
       "      <td>3.39</td>\n",
       "      <td>17850.0</td>\n",
       "      <td>United Kingdom</td>\n",
       "    </tr>\n",
       "    <tr>\n",
       "      <th>...</th>\n",
       "      <td>...</td>\n",
       "      <td>...</td>\n",
       "      <td>...</td>\n",
       "      <td>...</td>\n",
       "      <td>...</td>\n",
       "      <td>...</td>\n",
       "    </tr>\n",
       "    <tr>\n",
       "      <th>541904</th>\n",
       "      <td>PACK OF 20 SPACEBOY NAPKINS</td>\n",
       "      <td>12</td>\n",
       "      <td>12/9/2011 12:50</td>\n",
       "      <td>0.85</td>\n",
       "      <td>12680.0</td>\n",
       "      <td>France</td>\n",
       "    </tr>\n",
       "    <tr>\n",
       "      <th>541905</th>\n",
       "      <td>CHILDREN'S APRON DOLLY GIRL</td>\n",
       "      <td>6</td>\n",
       "      <td>12/9/2011 12:50</td>\n",
       "      <td>2.10</td>\n",
       "      <td>12680.0</td>\n",
       "      <td>France</td>\n",
       "    </tr>\n",
       "    <tr>\n",
       "      <th>541906</th>\n",
       "      <td>CHILDRENS CUTLERY DOLLY GIRL</td>\n",
       "      <td>4</td>\n",
       "      <td>12/9/2011 12:50</td>\n",
       "      <td>4.15</td>\n",
       "      <td>12680.0</td>\n",
       "      <td>France</td>\n",
       "    </tr>\n",
       "    <tr>\n",
       "      <th>541907</th>\n",
       "      <td>CHILDRENS CUTLERY CIRCUS PARADE</td>\n",
       "      <td>4</td>\n",
       "      <td>12/9/2011 12:50</td>\n",
       "      <td>4.15</td>\n",
       "      <td>12680.0</td>\n",
       "      <td>France</td>\n",
       "    </tr>\n",
       "    <tr>\n",
       "      <th>541908</th>\n",
       "      <td>BAKING SET 9 PIECE RETROSPOT</td>\n",
       "      <td>3</td>\n",
       "      <td>12/9/2011 12:50</td>\n",
       "      <td>4.95</td>\n",
       "      <td>12680.0</td>\n",
       "      <td>France</td>\n",
       "    </tr>\n",
       "  </tbody>\n",
       "</table>\n",
       "<p>541909 rows × 6 columns</p>\n",
       "</div>"
      ],
      "text/plain": [
       "                                Description  Quantity      InvoiceDate  \\\n",
       "0        WHITE HANGING HEART T-LIGHT HOLDER         6   12/1/2010 8:26   \n",
       "1                       WHITE METAL LANTERN         6   12/1/2010 8:26   \n",
       "2            CREAM CUPID HEARTS COAT HANGER         8   12/1/2010 8:26   \n",
       "3       KNITTED UNION FLAG HOT WATER BOTTLE         6   12/1/2010 8:26   \n",
       "4            RED WOOLLY HOTTIE WHITE HEART.         6   12/1/2010 8:26   \n",
       "...                                     ...       ...              ...   \n",
       "541904          PACK OF 20 SPACEBOY NAPKINS        12  12/9/2011 12:50   \n",
       "541905         CHILDREN'S APRON DOLLY GIRL          6  12/9/2011 12:50   \n",
       "541906        CHILDRENS CUTLERY DOLLY GIRL          4  12/9/2011 12:50   \n",
       "541907      CHILDRENS CUTLERY CIRCUS PARADE         4  12/9/2011 12:50   \n",
       "541908        BAKING SET 9 PIECE RETROSPOT          3  12/9/2011 12:50   \n",
       "\n",
       "        UnitPrice  CustomerID         Country  \n",
       "0            2.55     17850.0  United Kingdom  \n",
       "1            3.39     17850.0  United Kingdom  \n",
       "2            2.75     17850.0  United Kingdom  \n",
       "3            3.39     17850.0  United Kingdom  \n",
       "4            3.39     17850.0  United Kingdom  \n",
       "...           ...         ...             ...  \n",
       "541904       0.85     12680.0          France  \n",
       "541905       2.10     12680.0          France  \n",
       "541906       4.15     12680.0          France  \n",
       "541907       4.15     12680.0          France  \n",
       "541908       4.95     12680.0          France  \n",
       "\n",
       "[541909 rows x 6 columns]"
      ]
     },
     "execution_count": 29,
     "metadata": {},
     "output_type": "execute_result"
    }
   ],
   "source": [
    "online_retail.data.features "
   ]
  },
  {
   "cell_type": "code",
   "execution_count": 27,
   "metadata": {},
   "outputs": [
    {
     "data": {
      "application/vnd.microsoft.datawrangler.viewer.v0+json": {
       "columns": [
        {
         "name": "index",
         "rawType": "int64",
         "type": "integer"
        },
        {
         "name": "InvoiceNo",
         "rawType": "object",
         "type": "string"
        },
        {
         "name": "StockCode",
         "rawType": "object",
         "type": "string"
        }
       ],
       "conversionMethod": "pd.DataFrame",
       "ref": "9d8ca925-b2bb-4ac4-a1cd-1d08ad3043cb",
       "rows": [
        [
         "0",
         "536365",
         "85123A"
        ],
        [
         "1",
         "536365",
         "71053"
        ],
        [
         "2",
         "536365",
         "84406B"
        ],
        [
         "3",
         "536365",
         "84029G"
        ],
        [
         "4",
         "536365",
         "84029E"
        ],
        [
         "5",
         "536365",
         "22752"
        ],
        [
         "6",
         "536365",
         "21730"
        ],
        [
         "7",
         "536366",
         "22633"
        ],
        [
         "8",
         "536366",
         "22632"
        ],
        [
         "9",
         "536367",
         "84879"
        ],
        [
         "10",
         "536367",
         "22745"
        ],
        [
         "11",
         "536367",
         "22748"
        ],
        [
         "12",
         "536367",
         "22749"
        ],
        [
         "13",
         "536367",
         "22310"
        ],
        [
         "14",
         "536367",
         "84969"
        ],
        [
         "15",
         "536367",
         "22623"
        ],
        [
         "16",
         "536367",
         "22622"
        ],
        [
         "17",
         "536367",
         "21754"
        ],
        [
         "18",
         "536367",
         "21755"
        ],
        [
         "19",
         "536367",
         "21777"
        ],
        [
         "20",
         "536367",
         "48187"
        ],
        [
         "21",
         "536368",
         "22960"
        ],
        [
         "22",
         "536368",
         "22913"
        ],
        [
         "23",
         "536368",
         "22912"
        ],
        [
         "24",
         "536368",
         "22914"
        ],
        [
         "25",
         "536369",
         "21756"
        ],
        [
         "26",
         "536370",
         "22728"
        ],
        [
         "27",
         "536370",
         "22727"
        ],
        [
         "28",
         "536370",
         "22726"
        ],
        [
         "29",
         "536370",
         "21724"
        ],
        [
         "30",
         "536370",
         "21883"
        ],
        [
         "31",
         "536370",
         "10002"
        ],
        [
         "32",
         "536370",
         "21791"
        ],
        [
         "33",
         "536370",
         "21035"
        ],
        [
         "34",
         "536370",
         "22326"
        ],
        [
         "35",
         "536370",
         "22629"
        ],
        [
         "36",
         "536370",
         "22659"
        ],
        [
         "37",
         "536370",
         "22631"
        ],
        [
         "38",
         "536370",
         "22661"
        ],
        [
         "39",
         "536370",
         "21731"
        ],
        [
         "40",
         "536370",
         "22900"
        ],
        [
         "41",
         "536370",
         "21913"
        ],
        [
         "42",
         "536370",
         "22540"
        ],
        [
         "43",
         "536370",
         "22544"
        ],
        [
         "44",
         "536370",
         "22492"
        ],
        [
         "45",
         "536370",
         "POST"
        ],
        [
         "46",
         "536371",
         "22086"
        ],
        [
         "47",
         "536372",
         "22632"
        ],
        [
         "48",
         "536372",
         "22633"
        ],
        [
         "49",
         "536373",
         "85123A"
        ]
       ],
       "shape": {
        "columns": 2,
        "rows": 541909
       }
      },
      "text/html": [
       "<div>\n",
       "<style scoped>\n",
       "    .dataframe tbody tr th:only-of-type {\n",
       "        vertical-align: middle;\n",
       "    }\n",
       "\n",
       "    .dataframe tbody tr th {\n",
       "        vertical-align: top;\n",
       "    }\n",
       "\n",
       "    .dataframe thead th {\n",
       "        text-align: right;\n",
       "    }\n",
       "</style>\n",
       "<table border=\"1\" class=\"dataframe\">\n",
       "  <thead>\n",
       "    <tr style=\"text-align: right;\">\n",
       "      <th></th>\n",
       "      <th>InvoiceNo</th>\n",
       "      <th>StockCode</th>\n",
       "    </tr>\n",
       "  </thead>\n",
       "  <tbody>\n",
       "    <tr>\n",
       "      <th>0</th>\n",
       "      <td>536365</td>\n",
       "      <td>85123A</td>\n",
       "    </tr>\n",
       "    <tr>\n",
       "      <th>1</th>\n",
       "      <td>536365</td>\n",
       "      <td>71053</td>\n",
       "    </tr>\n",
       "    <tr>\n",
       "      <th>2</th>\n",
       "      <td>536365</td>\n",
       "      <td>84406B</td>\n",
       "    </tr>\n",
       "    <tr>\n",
       "      <th>3</th>\n",
       "      <td>536365</td>\n",
       "      <td>84029G</td>\n",
       "    </tr>\n",
       "    <tr>\n",
       "      <th>4</th>\n",
       "      <td>536365</td>\n",
       "      <td>84029E</td>\n",
       "    </tr>\n",
       "    <tr>\n",
       "      <th>...</th>\n",
       "      <td>...</td>\n",
       "      <td>...</td>\n",
       "    </tr>\n",
       "    <tr>\n",
       "      <th>541904</th>\n",
       "      <td>581587</td>\n",
       "      <td>22613</td>\n",
       "    </tr>\n",
       "    <tr>\n",
       "      <th>541905</th>\n",
       "      <td>581587</td>\n",
       "      <td>22899</td>\n",
       "    </tr>\n",
       "    <tr>\n",
       "      <th>541906</th>\n",
       "      <td>581587</td>\n",
       "      <td>23254</td>\n",
       "    </tr>\n",
       "    <tr>\n",
       "      <th>541907</th>\n",
       "      <td>581587</td>\n",
       "      <td>23255</td>\n",
       "    </tr>\n",
       "    <tr>\n",
       "      <th>541908</th>\n",
       "      <td>581587</td>\n",
       "      <td>22138</td>\n",
       "    </tr>\n",
       "  </tbody>\n",
       "</table>\n",
       "<p>541909 rows × 2 columns</p>\n",
       "</div>"
      ],
      "text/plain": [
       "       InvoiceNo StockCode\n",
       "0         536365    85123A\n",
       "1         536365     71053\n",
       "2         536365    84406B\n",
       "3         536365    84029G\n",
       "4         536365    84029E\n",
       "...          ...       ...\n",
       "541904    581587     22613\n",
       "541905    581587     22899\n",
       "541906    581587     23254\n",
       "541907    581587     23255\n",
       "541908    581587     22138\n",
       "\n",
       "[541909 rows x 2 columns]"
      ]
     },
     "execution_count": 27,
     "metadata": {},
     "output_type": "execute_result"
    }
   ],
   "source": [
    "online_retail.data['ids']"
   ]
  },
  {
   "cell_type": "code",
   "execution_count": 33,
   "metadata": {},
   "outputs": [
    {
     "data": {
      "application/vnd.microsoft.datawrangler.viewer.v0+json": {
       "columns": [
        {
         "name": "index",
         "rawType": "int64",
         "type": "integer"
        },
        {
         "name": "InvoiceNo",
         "rawType": "object",
         "type": "string"
        },
        {
         "name": "StockCode",
         "rawType": "object",
         "type": "string"
        },
        {
         "name": "Description",
         "rawType": "object",
         "type": "unknown"
        },
        {
         "name": "Quantity",
         "rawType": "int64",
         "type": "integer"
        },
        {
         "name": "InvoiceDate",
         "rawType": "object",
         "type": "string"
        },
        {
         "name": "UnitPrice",
         "rawType": "float64",
         "type": "float"
        },
        {
         "name": "CustomerID",
         "rawType": "float64",
         "type": "float"
        },
        {
         "name": "Country",
         "rawType": "object",
         "type": "string"
        }
       ],
       "conversionMethod": "pd.DataFrame",
       "ref": "1f754561-b623-44f5-b7e4-ebb6ae5d6175",
       "rows": [
        [
         "0",
         "536365",
         "85123A",
         "WHITE HANGING HEART T-LIGHT HOLDER",
         "6",
         "12/1/2010 8:26",
         "2.55",
         "17850.0",
         "United Kingdom"
        ],
        [
         "1",
         "536365",
         "71053",
         "WHITE METAL LANTERN",
         "6",
         "12/1/2010 8:26",
         "3.39",
         "17850.0",
         "United Kingdom"
        ],
        [
         "2",
         "536365",
         "84406B",
         "CREAM CUPID HEARTS COAT HANGER",
         "8",
         "12/1/2010 8:26",
         "2.75",
         "17850.0",
         "United Kingdom"
        ],
        [
         "3",
         "536365",
         "84029G",
         "KNITTED UNION FLAG HOT WATER BOTTLE",
         "6",
         "12/1/2010 8:26",
         "3.39",
         "17850.0",
         "United Kingdom"
        ],
        [
         "4",
         "536365",
         "84029E",
         "RED WOOLLY HOTTIE WHITE HEART.",
         "6",
         "12/1/2010 8:26",
         "3.39",
         "17850.0",
         "United Kingdom"
        ],
        [
         "5",
         "536365",
         "22752",
         "SET 7 BABUSHKA NESTING BOXES",
         "2",
         "12/1/2010 8:26",
         "7.65",
         "17850.0",
         "United Kingdom"
        ],
        [
         "6",
         "536365",
         "21730",
         "GLASS STAR FROSTED T-LIGHT HOLDER",
         "6",
         "12/1/2010 8:26",
         "4.25",
         "17850.0",
         "United Kingdom"
        ],
        [
         "7",
         "536366",
         "22633",
         "HAND WARMER UNION JACK",
         "6",
         "12/1/2010 8:28",
         "1.85",
         "17850.0",
         "United Kingdom"
        ],
        [
         "8",
         "536366",
         "22632",
         "HAND WARMER RED POLKA DOT",
         "6",
         "12/1/2010 8:28",
         "1.85",
         "17850.0",
         "United Kingdom"
        ],
        [
         "9",
         "536367",
         "84879",
         "ASSORTED COLOUR BIRD ORNAMENT",
         "32",
         "12/1/2010 8:34",
         "1.69",
         "13047.0",
         "United Kingdom"
        ],
        [
         "10",
         "536367",
         "22745",
         "POPPY'S PLAYHOUSE BEDROOM ",
         "6",
         "12/1/2010 8:34",
         "2.1",
         "13047.0",
         "United Kingdom"
        ],
        [
         "11",
         "536367",
         "22748",
         "POPPY'S PLAYHOUSE KITCHEN",
         "6",
         "12/1/2010 8:34",
         "2.1",
         "13047.0",
         "United Kingdom"
        ],
        [
         "12",
         "536367",
         "22749",
         "FELTCRAFT PRINCESS CHARLOTTE DOLL",
         "8",
         "12/1/2010 8:34",
         "3.75",
         "13047.0",
         "United Kingdom"
        ],
        [
         "13",
         "536367",
         "22310",
         "IVORY KNITTED MUG COSY ",
         "6",
         "12/1/2010 8:34",
         "1.65",
         "13047.0",
         "United Kingdom"
        ],
        [
         "14",
         "536367",
         "84969",
         "BOX OF 6 ASSORTED COLOUR TEASPOONS",
         "6",
         "12/1/2010 8:34",
         "4.25",
         "13047.0",
         "United Kingdom"
        ],
        [
         "15",
         "536367",
         "22623",
         "BOX OF VINTAGE JIGSAW BLOCKS ",
         "3",
         "12/1/2010 8:34",
         "4.95",
         "13047.0",
         "United Kingdom"
        ],
        [
         "16",
         "536367",
         "22622",
         "BOX OF VINTAGE ALPHABET BLOCKS",
         "2",
         "12/1/2010 8:34",
         "9.95",
         "13047.0",
         "United Kingdom"
        ],
        [
         "17",
         "536367",
         "21754",
         "HOME BUILDING BLOCK WORD",
         "3",
         "12/1/2010 8:34",
         "5.95",
         "13047.0",
         "United Kingdom"
        ],
        [
         "18",
         "536367",
         "21755",
         "LOVE BUILDING BLOCK WORD",
         "3",
         "12/1/2010 8:34",
         "5.95",
         "13047.0",
         "United Kingdom"
        ],
        [
         "19",
         "536367",
         "21777",
         "RECIPE BOX WITH METAL HEART",
         "4",
         "12/1/2010 8:34",
         "7.95",
         "13047.0",
         "United Kingdom"
        ],
        [
         "20",
         "536367",
         "48187",
         "DOORMAT NEW ENGLAND",
         "4",
         "12/1/2010 8:34",
         "7.95",
         "13047.0",
         "United Kingdom"
        ],
        [
         "21",
         "536368",
         "22960",
         "JAM MAKING SET WITH JARS",
         "6",
         "12/1/2010 8:34",
         "4.25",
         "13047.0",
         "United Kingdom"
        ],
        [
         "22",
         "536368",
         "22913",
         "RED COAT RACK PARIS FASHION",
         "3",
         "12/1/2010 8:34",
         "4.95",
         "13047.0",
         "United Kingdom"
        ],
        [
         "23",
         "536368",
         "22912",
         "YELLOW COAT RACK PARIS FASHION",
         "3",
         "12/1/2010 8:34",
         "4.95",
         "13047.0",
         "United Kingdom"
        ],
        [
         "24",
         "536368",
         "22914",
         "BLUE COAT RACK PARIS FASHION",
         "3",
         "12/1/2010 8:34",
         "4.95",
         "13047.0",
         "United Kingdom"
        ],
        [
         "25",
         "536369",
         "21756",
         "BATH BUILDING BLOCK WORD",
         "3",
         "12/1/2010 8:35",
         "5.95",
         "13047.0",
         "United Kingdom"
        ],
        [
         "26",
         "536370",
         "22728",
         "ALARM CLOCK BAKELIKE PINK",
         "24",
         "12/1/2010 8:45",
         "3.75",
         "12583.0",
         "France"
        ],
        [
         "27",
         "536370",
         "22727",
         "ALARM CLOCK BAKELIKE RED ",
         "24",
         "12/1/2010 8:45",
         "3.75",
         "12583.0",
         "France"
        ],
        [
         "28",
         "536370",
         "22726",
         "ALARM CLOCK BAKELIKE GREEN",
         "12",
         "12/1/2010 8:45",
         "3.75",
         "12583.0",
         "France"
        ],
        [
         "29",
         "536370",
         "21724",
         "PANDA AND BUNNIES STICKER SHEET",
         "12",
         "12/1/2010 8:45",
         "0.85",
         "12583.0",
         "France"
        ],
        [
         "30",
         "536370",
         "21883",
         "STARS GIFT TAPE ",
         "24",
         "12/1/2010 8:45",
         "0.65",
         "12583.0",
         "France"
        ],
        [
         "31",
         "536370",
         "10002",
         "INFLATABLE POLITICAL GLOBE ",
         "48",
         "12/1/2010 8:45",
         "0.85",
         "12583.0",
         "France"
        ],
        [
         "32",
         "536370",
         "21791",
         "VINTAGE HEADS AND TAILS CARD GAME ",
         "24",
         "12/1/2010 8:45",
         "1.25",
         "12583.0",
         "France"
        ],
        [
         "33",
         "536370",
         "21035",
         "SET/2 RED RETROSPOT TEA TOWELS ",
         "18",
         "12/1/2010 8:45",
         "2.95",
         "12583.0",
         "France"
        ],
        [
         "34",
         "536370",
         "22326",
         "ROUND SNACK BOXES SET OF4 WOODLAND ",
         "24",
         "12/1/2010 8:45",
         "2.95",
         "12583.0",
         "France"
        ],
        [
         "35",
         "536370",
         "22629",
         "SPACEBOY LUNCH BOX ",
         "24",
         "12/1/2010 8:45",
         "1.95",
         "12583.0",
         "France"
        ],
        [
         "36",
         "536370",
         "22659",
         "LUNCH BOX I LOVE LONDON",
         "24",
         "12/1/2010 8:45",
         "1.95",
         "12583.0",
         "France"
        ],
        [
         "37",
         "536370",
         "22631",
         "CIRCUS PARADE LUNCH BOX ",
         "24",
         "12/1/2010 8:45",
         "1.95",
         "12583.0",
         "France"
        ],
        [
         "38",
         "536370",
         "22661",
         "CHARLOTTE BAG DOLLY GIRL DESIGN",
         "20",
         "12/1/2010 8:45",
         "0.85",
         "12583.0",
         "France"
        ],
        [
         "39",
         "536370",
         "21731",
         "RED TOADSTOOL LED NIGHT LIGHT",
         "24",
         "12/1/2010 8:45",
         "1.65",
         "12583.0",
         "France"
        ],
        [
         "40",
         "536370",
         "22900",
         " SET 2 TEA TOWELS I LOVE LONDON ",
         "24",
         "12/1/2010 8:45",
         "2.95",
         "12583.0",
         "France"
        ],
        [
         "41",
         "536370",
         "21913",
         "VINTAGE SEASIDE JIGSAW PUZZLES",
         "12",
         "12/1/2010 8:45",
         "3.75",
         "12583.0",
         "France"
        ],
        [
         "42",
         "536370",
         "22540",
         "MINI JIGSAW CIRCUS PARADE ",
         "24",
         "12/1/2010 8:45",
         "0.42",
         "12583.0",
         "France"
        ],
        [
         "43",
         "536370",
         "22544",
         "MINI JIGSAW SPACEBOY",
         "24",
         "12/1/2010 8:45",
         "0.42",
         "12583.0",
         "France"
        ],
        [
         "44",
         "536370",
         "22492",
         "MINI PAINT SET VINTAGE ",
         "36",
         "12/1/2010 8:45",
         "0.65",
         "12583.0",
         "France"
        ],
        [
         "45",
         "536370",
         "POST",
         "POSTAGE",
         "3",
         "12/1/2010 8:45",
         "18.0",
         "12583.0",
         "France"
        ],
        [
         "46",
         "536371",
         "22086",
         "PAPER CHAIN KIT 50'S CHRISTMAS ",
         "80",
         "12/1/2010 9:00",
         "2.55",
         "13748.0",
         "United Kingdom"
        ],
        [
         "47",
         "536372",
         "22632",
         "HAND WARMER RED POLKA DOT",
         "6",
         "12/1/2010 9:01",
         "1.85",
         "17850.0",
         "United Kingdom"
        ],
        [
         "48",
         "536372",
         "22633",
         "HAND WARMER UNION JACK",
         "6",
         "12/1/2010 9:01",
         "1.85",
         "17850.0",
         "United Kingdom"
        ],
        [
         "49",
         "536373",
         "85123A",
         "WHITE HANGING HEART T-LIGHT HOLDER",
         "6",
         "12/1/2010 9:02",
         "2.55",
         "17850.0",
         "United Kingdom"
        ]
       ],
       "shape": {
        "columns": 8,
        "rows": 541909
       }
      },
      "text/html": [
       "<div>\n",
       "<style scoped>\n",
       "    .dataframe tbody tr th:only-of-type {\n",
       "        vertical-align: middle;\n",
       "    }\n",
       "\n",
       "    .dataframe tbody tr th {\n",
       "        vertical-align: top;\n",
       "    }\n",
       "\n",
       "    .dataframe thead th {\n",
       "        text-align: right;\n",
       "    }\n",
       "</style>\n",
       "<table border=\"1\" class=\"dataframe\">\n",
       "  <thead>\n",
       "    <tr style=\"text-align: right;\">\n",
       "      <th></th>\n",
       "      <th>InvoiceNo</th>\n",
       "      <th>StockCode</th>\n",
       "      <th>Description</th>\n",
       "      <th>Quantity</th>\n",
       "      <th>InvoiceDate</th>\n",
       "      <th>UnitPrice</th>\n",
       "      <th>CustomerID</th>\n",
       "      <th>Country</th>\n",
       "    </tr>\n",
       "  </thead>\n",
       "  <tbody>\n",
       "    <tr>\n",
       "      <th>0</th>\n",
       "      <td>536365</td>\n",
       "      <td>85123A</td>\n",
       "      <td>WHITE HANGING HEART T-LIGHT HOLDER</td>\n",
       "      <td>6</td>\n",
       "      <td>12/1/2010 8:26</td>\n",
       "      <td>2.55</td>\n",
       "      <td>17850.0</td>\n",
       "      <td>United Kingdom</td>\n",
       "    </tr>\n",
       "    <tr>\n",
       "      <th>1</th>\n",
       "      <td>536365</td>\n",
       "      <td>71053</td>\n",
       "      <td>WHITE METAL LANTERN</td>\n",
       "      <td>6</td>\n",
       "      <td>12/1/2010 8:26</td>\n",
       "      <td>3.39</td>\n",
       "      <td>17850.0</td>\n",
       "      <td>United Kingdom</td>\n",
       "    </tr>\n",
       "    <tr>\n",
       "      <th>2</th>\n",
       "      <td>536365</td>\n",
       "      <td>84406B</td>\n",
       "      <td>CREAM CUPID HEARTS COAT HANGER</td>\n",
       "      <td>8</td>\n",
       "      <td>12/1/2010 8:26</td>\n",
       "      <td>2.75</td>\n",
       "      <td>17850.0</td>\n",
       "      <td>United Kingdom</td>\n",
       "    </tr>\n",
       "    <tr>\n",
       "      <th>3</th>\n",
       "      <td>536365</td>\n",
       "      <td>84029G</td>\n",
       "      <td>KNITTED UNION FLAG HOT WATER BOTTLE</td>\n",
       "      <td>6</td>\n",
       "      <td>12/1/2010 8:26</td>\n",
       "      <td>3.39</td>\n",
       "      <td>17850.0</td>\n",
       "      <td>United Kingdom</td>\n",
       "    </tr>\n",
       "    <tr>\n",
       "      <th>4</th>\n",
       "      <td>536365</td>\n",
       "      <td>84029E</td>\n",
       "      <td>RED WOOLLY HOTTIE WHITE HEART.</td>\n",
       "      <td>6</td>\n",
       "      <td>12/1/2010 8:26</td>\n",
       "      <td>3.39</td>\n",
       "      <td>17850.0</td>\n",
       "      <td>United Kingdom</td>\n",
       "    </tr>\n",
       "    <tr>\n",
       "      <th>...</th>\n",
       "      <td>...</td>\n",
       "      <td>...</td>\n",
       "      <td>...</td>\n",
       "      <td>...</td>\n",
       "      <td>...</td>\n",
       "      <td>...</td>\n",
       "      <td>...</td>\n",
       "      <td>...</td>\n",
       "    </tr>\n",
       "    <tr>\n",
       "      <th>541904</th>\n",
       "      <td>581587</td>\n",
       "      <td>22613</td>\n",
       "      <td>PACK OF 20 SPACEBOY NAPKINS</td>\n",
       "      <td>12</td>\n",
       "      <td>12/9/2011 12:50</td>\n",
       "      <td>0.85</td>\n",
       "      <td>12680.0</td>\n",
       "      <td>France</td>\n",
       "    </tr>\n",
       "    <tr>\n",
       "      <th>541905</th>\n",
       "      <td>581587</td>\n",
       "      <td>22899</td>\n",
       "      <td>CHILDREN'S APRON DOLLY GIRL</td>\n",
       "      <td>6</td>\n",
       "      <td>12/9/2011 12:50</td>\n",
       "      <td>2.10</td>\n",
       "      <td>12680.0</td>\n",
       "      <td>France</td>\n",
       "    </tr>\n",
       "    <tr>\n",
       "      <th>541906</th>\n",
       "      <td>581587</td>\n",
       "      <td>23254</td>\n",
       "      <td>CHILDRENS CUTLERY DOLLY GIRL</td>\n",
       "      <td>4</td>\n",
       "      <td>12/9/2011 12:50</td>\n",
       "      <td>4.15</td>\n",
       "      <td>12680.0</td>\n",
       "      <td>France</td>\n",
       "    </tr>\n",
       "    <tr>\n",
       "      <th>541907</th>\n",
       "      <td>581587</td>\n",
       "      <td>23255</td>\n",
       "      <td>CHILDRENS CUTLERY CIRCUS PARADE</td>\n",
       "      <td>4</td>\n",
       "      <td>12/9/2011 12:50</td>\n",
       "      <td>4.15</td>\n",
       "      <td>12680.0</td>\n",
       "      <td>France</td>\n",
       "    </tr>\n",
       "    <tr>\n",
       "      <th>541908</th>\n",
       "      <td>581587</td>\n",
       "      <td>22138</td>\n",
       "      <td>BAKING SET 9 PIECE RETROSPOT</td>\n",
       "      <td>3</td>\n",
       "      <td>12/9/2011 12:50</td>\n",
       "      <td>4.95</td>\n",
       "      <td>12680.0</td>\n",
       "      <td>France</td>\n",
       "    </tr>\n",
       "  </tbody>\n",
       "</table>\n",
       "<p>541909 rows × 8 columns</p>\n",
       "</div>"
      ],
      "text/plain": [
       "       InvoiceNo StockCode                          Description  Quantity  \\\n",
       "0         536365    85123A   WHITE HANGING HEART T-LIGHT HOLDER         6   \n",
       "1         536365     71053                  WHITE METAL LANTERN         6   \n",
       "2         536365    84406B       CREAM CUPID HEARTS COAT HANGER         8   \n",
       "3         536365    84029G  KNITTED UNION FLAG HOT WATER BOTTLE         6   \n",
       "4         536365    84029E       RED WOOLLY HOTTIE WHITE HEART.         6   \n",
       "...          ...       ...                                  ...       ...   \n",
       "541904    581587     22613          PACK OF 20 SPACEBOY NAPKINS        12   \n",
       "541905    581587     22899         CHILDREN'S APRON DOLLY GIRL          6   \n",
       "541906    581587     23254        CHILDRENS CUTLERY DOLLY GIRL          4   \n",
       "541907    581587     23255      CHILDRENS CUTLERY CIRCUS PARADE         4   \n",
       "541908    581587     22138        BAKING SET 9 PIECE RETROSPOT          3   \n",
       "\n",
       "            InvoiceDate  UnitPrice  CustomerID         Country  \n",
       "0        12/1/2010 8:26       2.55     17850.0  United Kingdom  \n",
       "1        12/1/2010 8:26       3.39     17850.0  United Kingdom  \n",
       "2        12/1/2010 8:26       2.75     17850.0  United Kingdom  \n",
       "3        12/1/2010 8:26       3.39     17850.0  United Kingdom  \n",
       "4        12/1/2010 8:26       3.39     17850.0  United Kingdom  \n",
       "...                 ...        ...         ...             ...  \n",
       "541904  12/9/2011 12:50       0.85     12680.0          France  \n",
       "541905  12/9/2011 12:50       2.10     12680.0          France  \n",
       "541906  12/9/2011 12:50       4.15     12680.0          France  \n",
       "541907  12/9/2011 12:50       4.15     12680.0          France  \n",
       "541908  12/9/2011 12:50       4.95     12680.0          France  \n",
       "\n",
       "[541909 rows x 8 columns]"
      ]
     },
     "execution_count": 33,
     "metadata": {},
     "output_type": "execute_result"
    }
   ],
   "source": [
    "# full pandas dataframw with 8 columns considering 'InvoiceNo' and 'StockCode' as features \n",
    "X = pd.concat([online_retail.data['ids'], online_retail.data.features], axis=1)\n",
    "X"
   ]
  },
  {
   "cell_type": "code",
   "execution_count": 36,
   "metadata": {},
   "outputs": [
    {
     "data": {
      "text/plain": [
       "InvoiceNo           0\n",
       "StockCode           0\n",
       "Description      1454\n",
       "Quantity            0\n",
       "InvoiceDate         0\n",
       "UnitPrice           0\n",
       "CustomerID     135080\n",
       "Country             0\n",
       "dtype: int64"
      ]
     },
     "execution_count": 36,
     "metadata": {},
     "output_type": "execute_result"
    }
   ],
   "source": [
    "# customerID is often NaN and few times also description\n",
    "X.isna().sum()"
   ]
  },
  {
   "cell_type": "code",
   "execution_count": 38,
   "metadata": {},
   "outputs": [],
   "source": [
    "retail_df = X.copy()\n",
    "\n",
    "# Convert InvoiceDate to datetime\n",
    "retail_df['InvoiceDate'] = pd.to_datetime(retail_df['InvoiceDate'], format='%m/%d/%Y %H:%M')\n",
    "\n",
    "# Add a TotalPrice column (Quantity * UnitPrice)\n",
    "retail_df['TotalPrice'] = retail_df['Quantity'] * retail_df['UnitPrice']"
   ]
  },
  {
   "cell_type": "code",
   "execution_count": 39,
   "metadata": {},
   "outputs": [
    {
     "name": "stdout",
     "output_type": "stream",
     "text": [
      "Number of transactions with negative quantity: 10624\n"
     ]
    }
   ],
   "source": [
    "# Check for negative quantities (likely returns/cancellations)\n",
    "print(\"Number of transactions with negative quantity:\", (retail_df['Quantity'] < 0).sum())"
   ]
  },
  {
   "cell_type": "code",
   "execution_count": 40,
   "metadata": {},
   "outputs": [
    {
     "name": "stdout",
     "output_type": "stream",
     "text": [
      "Number of cancellation invoices: 9288\n"
     ]
    }
   ],
   "source": [
    "# Explore cancellation invoices (those starting with 'C')\n",
    "retail_df['IsCancel'] = retail_df['InvoiceNo'].astype(str).str.startswith('C')\n",
    "print(\"Number of cancellation invoices:\", retail_df['IsCancel'].sum())"
   ]
  },
  {
   "cell_type": "code",
   "execution_count": 41,
   "metadata": {},
   "outputs": [
    {
     "name": "stdout",
     "output_type": "stream",
     "text": [
      "\n",
      "Basic Statistics for Numeric Columns:\n",
      "            Quantity      UnitPrice     TotalPrice\n",
      "count  541909.000000  541909.000000  541909.000000\n",
      "mean        9.552250       4.611114      17.987795\n",
      "std       218.081158      96.759853     378.810824\n",
      "min    -80995.000000  -11062.060000 -168469.600000\n",
      "25%         1.000000       1.250000       3.400000\n",
      "50%         3.000000       2.080000       9.750000\n",
      "75%        10.000000       4.130000      17.400000\n",
      "max     80995.000000   38970.000000  168469.600000\n"
     ]
    }
   ],
   "source": [
    "# Basic statistics of the dataset\n",
    "print(\"\\nBasic Statistics for Numeric Columns:\")\n",
    "print(retail_df[['Quantity', 'UnitPrice', 'TotalPrice']].describe())"
   ]
  },
  {
   "cell_type": "code",
   "execution_count": 48,
   "metadata": {},
   "outputs": [
    {
     "data": {
      "image/png": "[encoded data removed]",
      "text/plain": [
       "<Figure size 1200x600 with 1 Axes>"
      ]
     },
     "metadata": {},
     "output_type": "display_data"
    }
   ],
   "source": [
    "country_sales = retail_df.groupby('Country').agg({\n",
    "    'InvoiceNo': 'nunique',\n",
    "    'TotalPrice': 'sum',\n",
    "    'CustomerID': pd.Series.nunique\n",
    "}).reset_index()\n",
    "\n",
    "country_sales.columns = ['Country', 'Transactions', 'Sales', 'Customers']\n",
    "country_sales = country_sales.sort_values('Sales', ascending=False).head(10)\n",
    "\n",
    "# Create the plot with absolute numbers\n",
    "plt.figure(figsize=(12, 6))\n",
    "ax = sns.barplot(x='Country', y='Sales', data=country_sales)\n",
    "plt.title('Top 10 Countries by Sales')\n",
    "plt.xticks(rotation=45)\n",
    "plt.ylabel('Sales (£)')\n",
    "\n",
    "# Format y-axis with thousands separator\n",
    "plt.gca().yaxis.set_major_formatter(plt.FuncFormatter(lambda x, _: f'{int(x):,}'))\n",
    "\n",
    "# Add value labels on top of each bar\n",
    "for i, bar in enumerate(ax.patches):\n",
    "    # Place the text above the bar\n",
    "    ax.text(bar.get_x() + bar.get_width()/2, bar.get_height() + 5000, \n",
    "            f'£{int(bar.get_height()):,}', \n",
    "            ha='center', va='bottom', fontsize=9)\n",
    "\n",
    "# Set the y-limit slightly higher to accommodate the labels\n",
    "current_ylim = plt.ylim()\n",
    "plt.ylim(0, current_ylim[1] * 1.1)  # Add 10% space at the top\n",
    "\n",
    "plt.tight_layout()\n",
    "plt.show()"
   ]
  },
  {
   "cell_type": "code",
   "execution_count": 44,
   "metadata": {},
   "outputs": [
    {
     "data": {
      "image/png": "[encoded data removed]",
      "text/plain": [
       "<Figure size 1400x600 with 1 Axes>"
      ]
     },
     "metadata": {},
     "output_type": "display_data"
    }
   ],
   "source": [
    "daily_sales = retail_df.groupby(retail_df['InvoiceDate'].dt.date).agg({\n",
    "    'InvoiceNo': 'nunique',\n",
    "    'TotalPrice': 'sum'\n",
    "}).reset_index()\n",
    "\n",
    "daily_sales.columns = ['Date', 'NumTransactions', 'TotalSales']\n",
    "\n",
    "plt.figure(figsize=(14, 6))\n",
    "plt.plot(daily_sales['Date'], daily_sales['TotalSales'])\n",
    "plt.title('Daily Sales Over Time')\n",
    "plt.xlabel('Date')\n",
    "plt.ylabel('Total Sales (£)')\n",
    "plt.grid(True, alpha=0.3)\n",
    "plt.tight_layout()\n",
    "plt.show()"
   ]
  },
  {
   "cell_type": "code",
   "execution_count": 46,
   "metadata": {},
   "outputs": [
    {
     "data": {
      "image/png": "[encoded data removed]",
      "text/plain": [
       "<Figure size 1400x600 with 2 Axes>"
      ]
     },
     "metadata": {},
     "output_type": "display_data"
    }
   ],
   "source": [
    "retail_df['YearMonth'] = retail_df['InvoiceDate'].dt.to_period('M')\n",
    "monthly_sales = retail_df.groupby('YearMonth').agg({\n",
    "    'InvoiceNo': 'nunique',\n",
    "    'TotalPrice': 'sum',\n",
    "    'CustomerID': lambda x: x.dropna().nunique()\n",
    "}).reset_index()\n",
    "\n",
    "monthly_sales.columns = ['YearMonth', 'NumTransactions', 'TotalSales', 'UniqueCustomers']\n",
    "monthly_sales['YearMonth'] = monthly_sales['YearMonth'].astype(str)\n",
    "\n",
    "plt.figure(figsize=(14, 6))\n",
    "plt.subplot(1, 2, 1)\n",
    "plt.bar(monthly_sales['YearMonth'], monthly_sales['TotalSales'])\n",
    "plt.title('Monthly Sales')\n",
    "plt.xticks(rotation=90)\n",
    "plt.ylabel('Total Sales (£)')\n",
    "\n",
    "plt.subplot(1, 2, 2)\n",
    "plt.bar(monthly_sales['YearMonth'], monthly_sales['UniqueCustomers'])\n",
    "plt.title('Monthly Active Customers')\n",
    "plt.xticks(rotation=90)\n",
    "plt.ylabel('Number of Customers')\n",
    "\n",
    "plt.tight_layout()\n",
    "plt.show()"
   ]
  },
  {
   "cell_type": "code",
   "execution_count": 49,
   "metadata": {},
   "outputs": [
    {
     "name": "stdout",
     "output_type": "stream",
     "text": [
      "Top 15 Products by Quantity Sold:\n",
      "     StockCode                         Description  TotalQuantity  \\\n",
      "3617     84077   WORLD WAR 2 GLIDERS ASSTD DESIGNS          53847   \n",
      "4197    85099B             JUMBO BAG RED RETROSPOT          47363   \n",
      "3956     84879       ASSORTED COLOUR BIRD ORNAMENT          36381   \n",
      "1333     22197                      POPCORN HOLDER          36334   \n",
      "531      21212     PACK OF 72 RETROSPOT CAKE CASES          36039   \n",
      "4223    85123A  WHITE HANGING HEART T-LIGHT HOLDER          35025   \n",
      "2344     23084                  RABBIT NIGHT LIGHT          30680   \n",
      "1630     22492             MINI PAINT SET VINTAGE           26437   \n",
      "1775     22616          PACK OF 12 LONDON TISSUES           26315   \n",
      "1122     21977  PACK OF 60 PINK PAISLEY CAKE CASES          24753   \n",
      "1312     22178     VICTORIAN GLASS HANGING T-LIGHT          23854   \n",
      "14       15036           ASSORTED COLOURS SILK FAN          23082   \n",
      "91       17003                 BROCADE RING PURSE           23053   \n",
      "1086     21915              RED  HARMONICA IN BOX           21866   \n",
      "1521     22386             JUMBO BAG PINK POLKADOT          21009   \n",
      "\n",
      "      TransactionCount  TotalRevenue  \n",
      "3617               540      13587.93  \n",
      "4197              2135      92356.03  \n",
      "3956              1467      58959.73  \n",
      "1333               839      33969.46  \n",
      "531               1334      21059.72  \n",
      "4223              2235      97715.99  \n",
      "2344              1009      66756.59  \n",
      "1630               390      16810.42  \n",
      "1775               515       7972.76  \n",
      "1122               875      12189.47  \n",
      "1312              1062      32549.57  \n",
      "14                 522      18064.16  \n",
      "91                 242       5863.59  \n",
      "1086               670      26247.83  \n",
      "1521              1231      41619.66  \n"
     ]
    }
   ],
   "source": [
    "# Products by quantity sold\n",
    "product_quantity = retail_df.groupby(['StockCode', 'Description']).agg({\n",
    "    'Quantity': 'sum',\n",
    "    'InvoiceNo': 'nunique',\n",
    "    'TotalPrice': 'sum'\n",
    "}).reset_index()\n",
    "\n",
    "product_quantity.columns = ['StockCode', 'Description', 'TotalQuantity', 'TransactionCount', 'TotalRevenue']\n",
    "product_quantity = product_quantity.sort_values('TotalQuantity', ascending=False)\n",
    "\n",
    "# Filter out any missing descriptions and special items like postage\n",
    "valid_products = product_quantity[\n",
    "    (product_quantity['Description'].notna()) & \n",
    "    (~product_quantity['StockCode'].str.contains('POST', na=False, case=False)) &\n",
    "    (product_quantity['StockCode'] != 'DOT') &\n",
    "    (product_quantity['TotalQuantity'] > 0)\n",
    "]\n",
    "\n",
    "# Display top products by quantity\n",
    "top_by_quantity = valid_products.head(15)\n",
    "print(\"Top 15 Products by Quantity Sold:\")\n",
    "print(top_by_quantity[['StockCode', 'Description', 'TotalQuantity', 'TransactionCount', 'TotalRevenue']])"
   ]
  },
  {
   "cell_type": "code",
   "execution_count": 51,
   "metadata": {},
   "outputs": [
    {
     "name": "stdout",
     "output_type": "stream",
     "text": [
      "Top 20 Customers by Total Spend:\n",
      "      CustomerID  TotalSpend  TransactionCount  UniqueProducts\n",
      "1689       14646   280206.02                73             700\n",
      "4201       18102   259657.30                60             150\n",
      "3728       17450   194550.79                46             124\n",
      "3008       16446   168472.50                 2               3\n",
      "1879       14911   143825.06               201            1787\n",
      "55         12415   124914.53                21             444\n",
      "1333       14156   117379.63                55             714\n",
      "3771       17511    91062.38                31             453\n",
      "2702       16029    81024.84                63              44\n",
      "0          12346    77183.60                 1               1\n",
      "3176       16684    66653.56                28             119\n",
      "1289       14096    65164.79                17            1119\n",
      "996        13694    65039.62                50             366\n",
      "2176       15311    60767.90                91             567\n",
      "562        13089    58825.83                97             636\n",
      "4093       17949    58510.48                45              29\n",
      "2517       15769    56252.72                26              26\n",
      "1983       15061    54534.14                48              70\n",
      "1434       14298    51527.30                44             884\n",
      "1284       14088    50491.81                13             379\n"
     ]
    }
   ],
   "source": [
    "# Filter out records with missing CustomerID and ensure Quantity and UnitPrice are valid\n",
    "valid_transactions = retail_df[\n",
    "    (retail_df['CustomerID'].notna()) & \n",
    "    (retail_df['Quantity'] > 0) & \n",
    "    (retail_df['UnitPrice'] > 0)\n",
    "]\n",
    "\n",
    "# Calculate total spend by customer\n",
    "customer_spend = valid_transactions.groupby('CustomerID').agg({\n",
    "    'TotalPrice': 'sum',\n",
    "    'InvoiceNo': 'nunique',\n",
    "    'StockCode': 'nunique'\n",
    "}).reset_index()\n",
    "\n",
    "customer_spend.columns = ['CustomerID', 'TotalSpend', 'TransactionCount', 'UniqueProducts']\n",
    "customer_spend = customer_spend.sort_values('TotalSpend', ascending=False).head(20)\n",
    "\n",
    "# Format CustomerID as integer for cleaner display\n",
    "customer_spend['CustomerID'] = customer_spend['CustomerID'].astype(int)\n",
    "\n",
    "# Print a summary table with additional details\n",
    "print(\"Top 20 Customers by Total Spend:\")\n",
    "print(customer_spend[['CustomerID', 'TotalSpend', 'TransactionCount', 'UniqueProducts']])"
   ]
  }
 ],
 "metadata": {
  "kernelspec": {
   "display_name": ".conda",
   "language": "python",
   "name": "python3"
  },
  "language_info": {
   "codemirror_mode": {
    "name": "ipython",
    "version": 3
   },
   "file_extension": ".py",
   "mimetype": "text/x-python",
   "name": "python",
   "nbconvert_exporter": "python",
   "pygments_lexer": "ipython3",
   "version": "3.10.15"
  }
 },
 "nbformat": 4,
 "nbformat_minor": 2
}
